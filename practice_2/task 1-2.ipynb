{
 "cells": [
  {
   "cell_type": "markdown",
   "id": "ee761a4d",
   "metadata": {},
   "source": [
    "## Tasks №1 and Tasks №2 \n",
    "\n",
    "Jupiter notebook is an interactive development environment with live code. It shows a visualization of the work. If a developer wants to look at a graph or formula, he writes the necessary command in the appropriate cell. This approach saves time and helps to avoid mistakes.\n",
    "\n",
    "\n"
   ]
  },
  {
   "cell_type": "markdown",
   "id": "e48306d5",
   "metadata": {},
   "source": [
    "## Useful features  \n",
    "\n",
    "Magic commands that work in ipython that can help you run and analyze data in jupyter notebook. They add special functionality that is not easy to achieve with Python code or the Jupyter notebook interface.\n",
    "\n",
    "All maigc commonds %lsmagic"
   ]
  },
  {
   "cell_type": "markdown",
   "id": "9bd76b2c",
   "metadata": {},
   "source": [
    "### Working with cells\n",
    "The code is executed inside the cells, sequentially based on the number to the left of the cell."
   ]
  },
  {
   "cell_type": "code",
   "execution_count": 5,
   "id": "c5cec0a1",
   "metadata": {},
   "outputs": [
    {
     "name": "stdout",
     "output_type": "stream",
     "text": [
      "Output а variable = 1\n"
     ]
    }
   ],
   "source": [
    "a=1\n",
    "print('Output а variable =', a)"
   ]
  },
  {
   "cell_type": "code",
   "execution_count": 6,
   "id": "536a28ff",
   "metadata": {},
   "outputs": [
    {
     "name": "stdout",
     "output_type": "stream",
     "text": [
      "Output b variable = 2\n"
     ]
    }
   ],
   "source": [
    "b=2\n",
    "print('Output b variable =', b)"
   ]
  },
  {
   "cell_type": "code",
   "execution_count": 7,
   "id": "52629efb",
   "metadata": {},
   "outputs": [
    {
     "name": "stdout",
     "output_type": "stream",
     "text": [
      "1 2\n"
     ]
    }
   ],
   "source": [
    "#We can output variables from previously started cells\n",
    "print(a, b)"
   ]
  },
  {
   "cell_type": "markdown",
   "id": "b5982dba",
   "metadata": {},
   "source": [
    "### Task №1\n",
    "There are dimensions width (a) and length of the room (b) and height of the walls (c), output the volume of the room in m3 with a floating point"
   ]
  },
  {
   "cell_type": "code",
   "execution_count": 13,
   "id": "08285930",
   "metadata": {},
   "outputs": [
    {
     "name": "stdout",
     "output_type": "stream",
     "text": [
      "volume = 36.0 m3 with the type <class 'float'>\n"
     ]
    }
   ],
   "source": [
    "a = 3\n",
    "b = 4\n",
    "c = 3\n",
    "\n",
    "#code here\n",
    "\n",
    "#An assumption is made that a, b and c are all given in metres\n",
    "\n",
    "volume = float(a*b*c)\n",
    "print(f'volume = {volume} m3 with the type {type(volume)}')"
   ]
  },
  {
   "cell_type": "markdown",
   "id": "24622ae5",
   "metadata": {},
   "source": [
    "### Task №2\n",
    "There is a list of list_v values, output a list without duplicate values\n"
   ]
  },
  {
   "cell_type": "code",
   "execution_count": 42,
   "id": "0a0766ee",
   "metadata": {},
   "outputs": [
    {
     "data": {
      "text/plain": [
       "[2, 2, 3, 4, 5, 0, 0]"
      ]
     },
     "execution_count": 42,
     "metadata": {},
     "output_type": "execute_result"
    }
   ],
   "source": [
    "list_v = [2,2,3,4,5,0,0]\n",
    "\n",
    "#code here\n",
    "list_v"
   ]
  },
  {
   "cell_type": "code",
   "execution_count": 35,
   "id": "f0e16dfc",
   "metadata": {},
   "outputs": [
    {
     "name": "stdout",
     "output_type": "stream",
     "text": [
      "[0, 2, 3, 4, 5]\n"
     ]
    }
   ],
   "source": [
    "#1st solution -- with the initial sorting of the list\n",
    "\n",
    "sorted_list_v = sorted(list_v)\n",
    "unique_list_v = []\n",
    "\n",
    "for i in range(len(sorted_list_v)):\n",
    "    # print(f'i={i}')\n",
    "    if sorted_list_v[i] == sorted_list_v[i-1]:\n",
    "    #   print(1)\n",
    "      continue\n",
    "    # print(0)\n",
    "    unique_list_v.append(sorted_list_v[i])\n",
    "\n",
    "del sorted_list_v\n",
    "print(unique_list_v)\n",
    "\n",
    "#If I counted correctly, the complexity is O(nlogn + n) = O(nlogn) because of the prior array sorting."
   ]
  },
  {
   "cell_type": "code",
   "execution_count": 47,
   "id": "2cec5806",
   "metadata": {},
   "outputs": [
    {
     "name": "stdout",
     "output_type": "stream",
     "text": [
      "[2, 3, 4, 5, 0]\n"
     ]
    }
   ],
   "source": [
    "#2nd solution -- without preparatory array sorting\n",
    "\n",
    "unique_list_v = []\n",
    "\n",
    "for el in list_v:\n",
    "    flag=True\n",
    "    for el_un in unique_list_v:\n",
    "      if el_un==el:\n",
    "          flag=False\n",
    "    if flag:\n",
    "       unique_list_v.append(el)\n",
    "    \n",
    "print(unique_list_v)\n",
    "\n",
    "#This soultion in the worst case works with the approximate complexity of O(n^2). Which is worse than the fitst solution."
   ]
  },
  {
   "cell_type": "code",
   "execution_count": 38,
   "id": "d2c293da",
   "metadata": {},
   "outputs": [
    {
     "name": "stdout",
     "output_type": "stream",
     "text": [
      "[0, 2, 3, 4, 5]\n"
     ]
    }
   ],
   "source": [
    "#3rd solution -- with using set\n",
    "\n",
    "unique_list_v = list(set(list_v))\n",
    "\n",
    "print(unique_list_v)\n",
    "\n",
    "#Hard to evaluate the complexity of this solution due to the fact that I don't know how fast is python set in getting unique values."
   ]
  }
 ],
 "metadata": {
  "kernelspec": {
   "display_name": "Python 3",
   "language": "python",
   "name": "python3"
  },
  "language_info": {
   "codemirror_mode": {
    "name": "ipython",
    "version": 3
   },
   "file_extension": ".py",
   "mimetype": "text/x-python",
   "name": "python",
   "nbconvert_exporter": "python",
   "pygments_lexer": "ipython3",
   "version": "3.11.8"
  }
 },
 "nbformat": 4,
 "nbformat_minor": 5
}
